{
  "nbformat": 4,
  "nbformat_minor": 0,
  "metadata": {
    "colab": {
      "name": "Operations and Expressions in Python.ipynb",
      "provenance": [],
      "collapsed_sections": [],
      "authorship_tag": "ABX9TyNoVFQ0eA6lwD4HBbxcUgJ1",
      "include_colab_link": true
    },
    "kernelspec": {
      "name": "python3",
      "display_name": "Python 3"
    },
    "language_info": {
      "name": "python"
    }
  },
  "cells": [
    {
      "cell_type": "markdown",
      "metadata": {
        "id": "view-in-github",
        "colab_type": "text"
      },
      "source": [
        "<a href=\"https://colab.research.google.com/github/RyanDisuanco/Disuanco_PythonOperators/blob/main/Operations_and_Expressions_in_Python.ipynb\" target=\"_parent\"><img src=\"https://colab.research.google.com/assets/colab-badge.svg\" alt=\"Open In Colab\"/></a>"
      ]
    },
    {
      "cell_type": "markdown",
      "source": [
        "BOOLEAN OPERATORS"
      ],
      "metadata": {
        "id": "oI_h0ZJBShiL"
      }
    },
    {
      "cell_type": "code",
      "execution_count": null,
      "metadata": {
        "colab": {
          "base_uri": "https://localhost:8080/"
        },
        "id": "6YWiElGMScwI",
        "outputId": "33dc9e7d-c15c-4ac2-e3f4-6c73a281b694"
      },
      "outputs": [
        {
          "output_type": "stream",
          "name": "stdout",
          "text": [
            "True\n",
            "True\n",
            "False\n"
          ]
        }
      ],
      "source": [
        "#Boolean OP\n",
        "print(10>9)\n",
        "\n",
        "print(9==9)\n",
        "\n",
        "print(10<9)"
      ]
    },
    {
      "cell_type": "code",
      "source": [
        "\n",
        "print(bool(\"Output\"))\n",
        "\n",
        "print(bool(15))\n",
        "\n",
        "print(bool())\n",
        "\n",
        "print(bool(0))\n",
        "\n",
        "print(bool(False))\n",
        "\n",
        "print(bool(None))\n",
        "\n",
        "print(bool([]))"
      ],
      "metadata": {
        "colab": {
          "base_uri": "https://localhost:8080/"
        },
        "id": "YW6pweHKSuZC",
        "outputId": "7e7ad138-bb3d-4b49-c2ce-b924e06f226e"
      },
      "execution_count": null,
      "outputs": [
        {
          "output_type": "stream",
          "name": "stdout",
          "text": [
            "True\n",
            "True\n",
            "False\n",
            "False\n",
            "False\n",
            "False\n",
            "False\n"
          ]
        }
      ]
    },
    {
      "cell_type": "markdown",
      "source": [
        "BOOLEAN FUNCTIONS"
      ],
      "metadata": {
        "id": "S4L5hHN7TJPR"
      }
    },
    {
      "cell_type": "code",
      "source": [
        "#Boolean Func\n",
        "def myFunctionA():\n",
        "\n",
        "    return False\n",
        "\n",
        "    print(myFunctionA())\n",
        "\n",
        "def myFunction():\n",
        "    return True\n",
        "  \n",
        "if myFunction():\n",
        "  \n",
        "    print(\"Yes\")\n",
        "\n",
        "else:\n",
        "\n",
        "    print(\"No\")"
      ],
      "metadata": {
        "colab": {
          "base_uri": "https://localhost:8080/"
        },
        "id": "lR2DIFzkTKer",
        "outputId": "b219717f-181f-4d9d-eb10-0e818d5a76cf"
      },
      "execution_count": null,
      "outputs": [
        {
          "output_type": "stream",
          "name": "stdout",
          "text": [
            "Yes\n"
          ]
        }
      ]
    },
    {
      "cell_type": "markdown",
      "source": [
        "APPLICATIONS"
      ],
      "metadata": {
        "id": "nWOmussyUUcc"
      }
    },
    {
      "cell_type": "code",
      "source": [
        "#App\n",
        "\n",
        "print(10>9)\n",
        "a=6\n",
        "b=7\n",
        "print(a==b)\n",
        "print(a!=a)"
      ],
      "metadata": {
        "colab": {
          "base_uri": "https://localhost:8080/"
        },
        "id": "HlNWzKE6UVlT",
        "outputId": "551f51de-f9af-4f49-8f9e-9df9cb3c07f3"
      },
      "execution_count": null,
      "outputs": [
        {
          "output_type": "stream",
          "name": "stdout",
          "text": [
            "True\n",
            "False\n",
            "False\n"
          ]
        }
      ]
    },
    {
      "cell_type": "markdown",
      "source": [
        "OPERATORS"
      ],
      "metadata": {
        "id": "x-aE18tNUdQy"
      }
    },
    {
      "cell_type": "code",
      "source": [
        "#Python Operators\n",
        "\n",
        "print(10+9)\n",
        "print(10-9)\n",
        "print(10*9)\n",
        "print(10/5)\n",
        "print(10%5)\n",
        "print(10//3)\n",
        "print(10**2)\n"
      ],
      "metadata": {
        "colab": {
          "base_uri": "https://localhost:8080/"
        },
        "id": "o18LORkgUebH",
        "outputId": "1ca440c5-4582-4652-dced-cd374a69116f"
      },
      "execution_count": null,
      "outputs": [
        {
          "output_type": "stream",
          "name": "stdout",
          "text": [
            "19\n",
            "1\n",
            "90\n",
            "2.0\n",
            "0\n",
            "3\n",
            "100\n"
          ]
        }
      ]
    },
    {
      "cell_type": "markdown",
      "source": [
        "BITWISE OPERATORS"
      ],
      "metadata": {
        "id": "oKzA3weCUtLu"
      }
    },
    {
      "cell_type": "code",
      "source": [
        "#Bitwise Operators\n",
        "print(60 & 13)\n",
        "\n",
        "print(60 | 13)\n",
        "\n",
        "print(60 ^ 13)"
      ],
      "metadata": {
        "colab": {
          "base_uri": "https://localhost:8080/"
        },
        "id": "396yaqoTUvhl",
        "outputId": "9c47a3fc-71c6-4b5d-ae24-a82b4bb5902e"
      },
      "execution_count": null,
      "outputs": [
        {
          "output_type": "stream",
          "name": "stdout",
          "text": [
            "12\n",
            "61\n",
            "49\n"
          ]
        }
      ]
    },
    {
      "cell_type": "markdown",
      "source": [
        "ASSIGNMENT OPERATORS"
      ],
      "metadata": {
        "id": "i-tCTetVU3Xh"
      }
    },
    {
      "cell_type": "code",
      "source": [
        "#Assignment Operators\n",
        "\n",
        "x=6\n",
        "y=6\n",
        "x+=3\n",
        "y//=3\n",
        "\n",
        "print(x)\n",
        "print(y)"
      ],
      "metadata": {
        "colab": {
          "base_uri": "https://localhost:8080/"
        },
        "id": "GlZc_wOGU4c4",
        "outputId": "99322322-cc70-4ad3-d5cb-46fc7b43dfb5"
      },
      "execution_count": null,
      "outputs": [
        {
          "output_type": "stream",
          "name": "stdout",
          "text": [
            "9\n",
            "2\n"
          ]
        }
      ]
    },
    {
      "cell_type": "markdown",
      "source": [
        "LOGICAL OPERATORS"
      ],
      "metadata": {
        "id": "ujysaXXrU_pD"
      }
    },
    {
      "cell_type": "code",
      "source": [
        "#Logical Operators\n",
        "\n",
        "x=True\n",
        "y=False\n",
        "\n",
        "print(x and y)\n",
        "print(x or y)"
      ],
      "metadata": {
        "colab": {
          "base_uri": "https://localhost:8080/"
        },
        "id": "ipHD0PloVAsG",
        "outputId": "9a99615d-9210-42da-e986-0fe95429c20b"
      },
      "execution_count": null,
      "outputs": [
        {
          "output_type": "stream",
          "name": "stdout",
          "text": [
            "False\n",
            "True\n"
          ]
        }
      ]
    },
    {
      "cell_type": "markdown",
      "source": [
        "IDENTITY OPERATORS"
      ],
      "metadata": {
        "id": "L2fftpRQVHPy"
      }
    },
    {
      "cell_type": "code",
      "source": [
        "#Identity OP\n",
        "\n",
        "print(x is y)\n",
        "print(x is not y)"
      ],
      "metadata": {
        "colab": {
          "base_uri": "https://localhost:8080/"
        },
        "id": "G19lfawfVIYf",
        "outputId": "35775acd-2ff6-4ef8-b3c6-4e2a8fed6dbd"
      },
      "execution_count": null,
      "outputs": [
        {
          "output_type": "stream",
          "name": "stdout",
          "text": [
            "False\n",
            "True\n"
          ]
        }
      ]
    }
  ]
}